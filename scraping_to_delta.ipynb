{
 "cells": [
  {
   "cell_type": "markdown",
   "id": "b65cdf11-75ac-414f-958f-7469a3cda202",
   "metadata": {},
   "source": [
    "## Libs"
   ]
  },
  {
   "cell_type": "code",
   "execution_count": 36,
   "id": "1d0ae8e0-0b42-4d71-aebc-2e8995ae0ba5",
   "metadata": {},
   "outputs": [],
   "source": [
    "import requests\n",
    "from bs4 import BeautifulSoup\n",
    "import os\n",
    "import pandas as pd\n",
    "from deltalake import DeltaTable\n",
    "from deltalake.writer import write_deltalake\n",
    "import time\n",
    "import pyarrow as pa"
   ]
  },
  {
   "cell_type": "markdown",
   "id": "6c5ef04b-15b6-4f4a-a34f-7c12e8e863de",
   "metadata": {},
   "source": [
    "## Data Ingestion (using web scraping)"
   ]
  },
  {
   "cell_type": "code",
   "execution_count": null,
   "id": "1b117b8f-6a31-4c37-84a3-f7f67863f489",
   "metadata": {},
   "outputs": [],
   "source": [
    "response = requests.get('https://nijianmo.github.io/amazon/index.html')\n",
    "soup = BeautifulSoup(response.content, 'html.parser')\n",
    "\n",
    "os.makedirs(\"amazon_reviews\", exist_ok=True)"
   ]
  },
  {
   "cell_type": "code",
   "execution_count": null,
   "id": "c3345a5e-ea20-4c2b-a9c6-8927701393d8",
   "metadata": {},
   "outputs": [],
   "source": [
    "for link in soup.find_all('a'):\n",
    "    href = link.get('href')\n",
    "\n",
    "    if href and href.endswith(\".json.gz\"):\n",
    "        file_name = href.split('/')[-1]\n",
    "        output_path = os.path.join(\"amazon_reviews\", file_name)\n",
    "\n",
    "        if file_name == 'Electronics_5.json.gz':\n",
    "\n",
    "            r = requests.get(href, stream=True, verify=False)\n",
    "    \n",
    "            with open(output_path, 'wb') as f:\n",
    "                for chunk in r.iter_content(chunk_size=1024):\n",
    "                    if chunk:\n",
    "                        f.write(chunk)\n",
    "            print(f\"{file_name} salvo com sucesso!\\n\")"
   ]
  },
  {
   "cell_type": "markdown",
   "id": "4c827a6a-69bb-49fd-b0d3-37f5e70d024a",
   "metadata": {},
   "source": [
    "## Creating Chunks to save as DF"
   ]
  },
  {
   "cell_type": "code",
   "execution_count": 32,
   "id": "8710773e-b232-4fd5-94f4-acf78f05cb0b",
   "metadata": {},
   "outputs": [],
   "source": [
    "chunks = pd.read_json(\n",
    "    \"amazon_reviews/Electronics_5.json.gz\",\n",
    "    lines=True,\n",
    "    compression='gzip',\n",
    "    chunksize=100_000 \n",
    ")"
   ]
  },
  {
   "cell_type": "markdown",
   "id": "bc1648ac-881c-4c8b-ae97-3348290147a9",
   "metadata": {},
   "source": [
    "## Saving in Delta Table"
   ]
  },
  {
   "cell_type": "code",
   "execution_count": 42,
   "id": "1e0af531-dd54-4ecc-99e0-4b8542e4a8b7",
   "metadata": {},
   "outputs": [],
   "source": [
    "path = \"delta_tables/amazon_electronics\"\n",
    "\n",
    "tabela_criada = os.path.exists(path)"
   ]
  },
  {
   "cell_type": "code",
   "execution_count": null,
   "id": "3ec36de1-4b62-46fb-a493-26d55b797d57",
   "metadata": {},
   "outputs": [],
   "source": [
    "colunas_desejadas = {\n",
    "    'image': 'string',\n",
    "    'overall': 'float64',\n",
    "    'vote': 'string',\n",
    "    'verified': 'boolean',\n",
    "    'reviewTime': 'string',\n",
    "    'reviewerID': 'string',\n",
    "    'asin': 'string',\n",
    "    'reviewerName': 'string',\n",
    "    'reviewText': 'string',\n",
    "    'summary': 'string',\n",
    "    'unixReviewTime': 'int64',\n",
    "    'style': 'object'\n",
    "}\n",
    "\n",
    "start = time.time()\n",
    "\n",
    "for i, chunk in enumerate(chunks):\n",
    "    print(f\"Escrevendo chunk {i}...\")\n",
    "\n",
    "    df_chunk = chunk.reindex(columns=colunas_desejadas.keys())\n",
    "\n",
    "    for col, tipo in colunas_desejadas.items():\n",
    "        df_chunk[col] = df_chunk[col].astype(tipo, errors=\"ignore\")\n",
    "\n",
    "    write_deltalake(\n",
    "        path,\n",
    "        df_chunk,\n",
    "        mode=\"append\" if tabela_criada else \"overwrite\"\n",
    "    )\n",
    "\n",
    "    tabela_criada = True\n",
    "\n",
    "end = time.time()\n",
    "print(f\"Delta com Pandas escrita em {end - start:.2f} segundos 💽\")\n"
   ]
  },
  {
   "cell_type": "code",
   "execution_count": null,
   "id": "452a8f0f-49e1-44d3-bd01-579262676b9b",
   "metadata": {},
   "outputs": [],
   "source": []
  }
 ],
 "metadata": {
  "kernelspec": {
   "display_name": "Python 3 (ipykernel)",
   "language": "python",
   "name": "python3"
  },
  "language_info": {
   "codemirror_mode": {
    "name": "ipython",
    "version": 3
   },
   "file_extension": ".py",
   "mimetype": "text/x-python",
   "name": "python",
   "nbconvert_exporter": "python",
   "pygments_lexer": "ipython3",
   "version": "3.12.6"
  }
 },
 "nbformat": 4,
 "nbformat_minor": 5
}
